{
 "cells": [
  {
   "cell_type": "code",
   "execution_count": 4,
   "metadata": {},
   "outputs": [
    {
     "name": "stdout",
     "output_type": "stream",
     "text": [
      "/home/utilisateur/Documents/Projets/Python\n",
      "Python\n"
     ]
    }
   ],
   "source": [
    "# Exercice 25\n",
    "\n",
    "import os \n",
    "\n",
    "path = os.getcwd()\n",
    "\n",
    "nom_du_dossier_courant = os.path.basename(path)\n",
    "\n",
    "print(path)\n",
    "print(nom_du_dossier_courant)\n"
   ]
  },
  {
   "cell_type": "code",
   "execution_count": 13,
   "metadata": {},
   "outputs": [
    {
     "data": {
      "text/plain": [
       "[1, 2, 4, 5]"
      ]
     },
     "execution_count": 13,
     "metadata": {},
     "output_type": "execute_result"
    }
   ],
   "source": [
    "# Exercice 26\n",
    "\n",
    "def maliste(liste):\n",
    "    # del liste[0]\n",
    "    liste.remove(3)\n",
    "    return liste\n",
    "    \n",
    "maliste([1, 2, 3, 4, 5])\n"
   ]
  },
  {
   "cell_type": "code",
   "execution_count": 22,
   "metadata": {},
   "outputs": [
    {
     "name": "stdout",
     "output_type": "stream",
     "text": [
      ".txt\n"
     ]
    }
   ],
   "source": [
    "# Exercice 27\n",
    "\n",
    "import pathlib\n",
    "\n",
    "# extension = pathlib.Path('/home/utilisateur/Documents/Projets/Python/Exos25_39.ipynb').suffix\n",
    "# extension = pathlib.Path('/home/utilisateur/Documents/Projets/Python/python-course/other_folder/other_folder_file.py').suffix\n",
    "# extension = pathlib.Path('Exos5_24.ipynb').suffix\n",
    "extension = pathlib.Path().suffix\n",
    "\n",
    "print(extension)"
   ]
  },
  {
   "cell_type": "code",
   "execution_count": 27,
   "metadata": {},
   "outputs": [
    {
     "name": "stdout",
     "output_type": "stream",
     "text": [
      "8 x 0 = 0\n",
      "8 x 1 = 8\n",
      "8 x 2 = 16\n",
      "8 x 3 = 24\n",
      "8 x 4 = 32\n",
      "8 x 5 = 40\n",
      "8 x 6 = 48\n",
      "8 x 7 = 56\n",
      "8 x 8 = 64\n",
      "8 x 9 = 72\n",
      "8 x 10 = 80\n",
      "0.00020051002502441406\n"
     ]
    }
   ],
   "source": [
    "# Exercice 28\n",
    "\n",
    "import time\n",
    "\n",
    "start = time.time()\n",
    "\n",
    "for i in range(11):\n",
    "    print(f\"8 x {i} = {8*i}\")\n",
    "\n",
    "\n",
    "print(time.time() - start)"
   ]
  },
  {
   "cell_type": "code",
   "execution_count": 35,
   "metadata": {},
   "outputs": [
    {
     "name": "stdout",
     "output_type": "stream",
     "text": [
      "['ch', 8, 6, 's', 2, 7, 3, 'd']\n"
     ]
    }
   ],
   "source": [
    "# Exercice 29\n",
    "\n",
    "import random\n",
    "\n",
    "list = [3, 6, 8, 7, 2, \"s\", \"ch\", \"d\"]\n",
    "\n",
    "random.shuffle(list)\n",
    "\n",
    "print(list)\n",
    "\n"
   ]
  },
  {
   "cell_type": "code",
   "execution_count": 11,
   "metadata": {},
   "outputs": [
    {
     "name": "stdout",
     "output_type": "stream",
     "text": [
      "16\n"
     ]
    }
   ],
   "source": [
    "# Exercice 30\n",
    "import random\n",
    "\n",
    "print(random.randint(10,21))"
   ]
  },
  {
   "cell_type": "code",
   "execution_count": 53,
   "metadata": {},
   "outputs": [
    {
     "ename": "SyntaxError",
     "evalue": "invalid syntax (4036966848.py, line 3)",
     "output_type": "error",
     "traceback": [
      "\u001b[0;36m  Cell \u001b[0;32mIn[53], line 3\u001b[0;36m\u001b[0m\n\u001b[0;31m    print(list(range(5,21) +*8))\u001b[0m\n\u001b[0m                            ^\u001b[0m\n\u001b[0;31mSyntaxError\u001b[0m\u001b[0;31m:\u001b[0m invalid syntax\n"
     ]
    }
   ],
   "source": [
    "# Exercice 31\n",
    "\n",
    "print(list(range(5,21) +*8))\n",
    "\n",
    "\n"
   ]
  },
  {
   "cell_type": "code",
   "execution_count": 35,
   "metadata": {},
   "outputs": [
    {
     "name": "stdout",
     "output_type": "stream",
     "text": [
      "[3, 6, 9, 12, 15, 18, 21, 24]\n",
      "[1, 2, 3, 4, 5, 6, 7, 8]\n"
     ]
    }
   ],
   "source": [
    "# Exercice 32\n",
    "l = list(range(3,25,3))\n",
    "print(l)\n",
    "\n",
    "l1 = [round(x/3) for x in l]\n",
    "print(l1)"
   ]
  },
  {
   "cell_type": "code",
   "execution_count": 43,
   "metadata": {},
   "outputs": [
    {
     "name": "stdout",
     "output_type": "stream",
     "text": [
      "[8]\n"
     ]
    }
   ],
   "source": [
    "# Exercice 33\n",
    "\n",
    "l = [-6.5, -3, -1.2, 8, -3.6]\n",
    "l1 = [ x for x in l if x > 0 ]\n",
    "print(l1)"
   ]
  },
  {
   "cell_type": "code",
   "execution_count": 1,
   "metadata": {},
   "outputs": [
    {
     "name": "stdout",
     "output_type": "stream",
     "text": [
      "9\n",
      "2\n"
     ]
    }
   ],
   "source": [
    "# Exercice 34\n",
    "\n",
    "def f(a,b,x):\n",
    "    resultat = a*(x**3) + 2*a*(x**2) + b\n",
    "    return resultat\n",
    "\n",
    "print(f(3,0,1))\n",
    "print(f(0,2,2))"
   ]
  },
  {
   "cell_type": "code",
   "execution_count": 14,
   "metadata": {},
   "outputs": [
    {
     "name": "stdout",
     "output_type": "stream",
     "text": [
      "False\n",
      "[1, 2, 3, 4, 5, 6, 7, 8, 9, 10]\n"
     ]
    }
   ],
   "source": [
    "# Exercice 35\n",
    "\n",
    "l = list(range(1,11))\n",
    "\n",
    "def VerifPresence(a,l):\n",
    "    return a in l\n",
    "\n",
    "print(VerifPresence(int(input()),l))\n",
    "print(l)\n"
   ]
  },
  {
   "cell_type": "code",
   "execution_count": 9,
   "metadata": {},
   "outputs": [],
   "source": [
    "# Exercice 36"
   ]
  },
  {
   "cell_type": "code",
   "execution_count": 22,
   "metadata": {},
   "outputs": [
    {
     "name": "stdout",
     "output_type": "stream",
     "text": [
      "[1, 2, 3, 4, 5, 6, 7]\n",
      "28\n"
     ]
    }
   ],
   "source": [
    "# Exercice 37\n",
    "\n",
    "l37 = list(range(1,8))\n",
    "print(l37)\n",
    "\n",
    "def calcul_somme(liste):\n",
    "    somme = 0\n",
    "    for x in l37:\n",
    "        somme += x\n",
    "    return somme\n",
    "\n",
    "print(calcul_somme(l37))"
   ]
  },
  {
   "cell_type": "code",
   "execution_count": 12,
   "metadata": {},
   "outputs": [
    {
     "name": "stdout",
     "output_type": "stream",
     "text": [
      "(1, 2, 3, 3, 'a', 'a', 'cc', 'coucou', 12, 12)\n",
      "None\n"
     ]
    }
   ],
   "source": [
    "# Exercice 38\n",
    "\n",
    "l = (1,2,3,3,\"a\", \"a\",\"cc\",\"coucou\",12,12)\n",
    "print(l)\n",
    "\n",
    "def supprimer_doublons(doublons):\n",
    "    return set(l)\n",
    "\n",
    "print(supprimer_doublons(l))"
   ]
  },
  {
   "cell_type": "code",
   "execution_count": 13,
   "metadata": {},
   "outputs": [
    {
     "name": "stdout",
     "output_type": "stream",
     "text": [
      "{'julien': 14, 'laurent': 31, 'baptiste': 29}\n"
     ]
    }
   ],
   "source": [
    "# Exercice 39\n",
    "\n",
    "d = {\"julien\": 14, \"laurent\": 31}\n",
    "\n",
    "def ajoutElementDict(cle, valeur, d):\n",
    "    d[cle] = valeur\n",
    "    \n",
    "ajoutElementDict(\"baptiste\", 29, d)\n",
    "print(d)"
   ]
  },
  {
   "cell_type": "code",
   "execution_count": 5,
   "metadata": {},
   "outputs": [
    {
     "name": "stdout",
     "output_type": "stream",
     "text": [
      "10\n"
     ]
    }
   ],
   "source": [
    "# Exercice 40\n",
    "\n",
    "def maximum(l):\n",
    "    return max(l)\n",
    "\n",
    "l = list(range(1,11))\n",
    "print(maximum(l))"
   ]
  },
  {
   "cell_type": "code",
   "execution_count": 35,
   "metadata": {},
   "outputs": [],
   "source": [
    "# Exercice 41\n",
    "\n",
    "# l41 = list(range(12,52,4))\n",
    "# print(l41)\n",
    "\n",
    "# def sommeSousListe(L,i,j):\n",
    "#     somme = 0\n",
    "#     for x in \n",
    "#     return somme\n",
    "    \n",
    "\n",
    "# print(sommeSousListe(l41,2,4))\n",
    "\n"
   ]
  },
  {
   "cell_type": "code",
   "execution_count": 63,
   "metadata": {},
   "outputs": [
    {
     "name": "stdout",
     "output_type": "stream",
     "text": [
      "\n",
      "*\n",
      "**\n",
      "***\n",
      "****\n",
      "*****\n",
      "******\n",
      "*******\n",
      "None\n"
     ]
    }
   ],
   "source": [
    "# Exercice 42\n",
    "\n",
    "def pyramide(n):\n",
    "    for i in range(n):\n",
    "        print((i*\"*\"))\n",
    "\n",
    "    return\n",
    "\n",
    "print(pyramide(8))\n",
    "\n",
    "\n",
    "\n"
   ]
  },
  {
   "cell_type": "code",
   "execution_count": 64,
   "metadata": {},
   "outputs": [
    {
     "name": "stdout",
     "output_type": "stream",
     "text": [
      "-23\n"
     ]
    }
   ],
   "source": [
    "# Exercice 43\n",
    "l43 = (1, 5, 2, 9, 56, 7, 78, -23)\n",
    "\n",
    "def minimum(L):\n",
    "    return min(L)\n",
    "\n",
    "print(minimum(l43))"
   ]
  },
  {
   "cell_type": "code",
   "execution_count": 65,
   "metadata": {},
   "outputs": [
    {
     "name": "stdout",
     "output_type": "stream",
     "text": [
      "8\n"
     ]
    }
   ],
   "source": [
    "# Exercice 44\n",
    "\n",
    "def longueur(L):\n",
    "    return len(L)\n",
    "\n",
    "print(longueur(l43))"
   ]
  },
  {
   "cell_type": "code",
   "execution_count": 67,
   "metadata": {},
   "outputs": [
    {
     "name": "stdout",
     "output_type": "stream",
     "text": [
      "16.875\n"
     ]
    }
   ],
   "source": [
    "# Exercice 45\n",
    "\n",
    "def moyenneListe(L):\n",
    "    moyenne = sum(L)/len(L)\n",
    "    return moyenne\n",
    "\n",
    "print(moyenneListe(l43))"
   ]
  },
  {
   "cell_type": "code",
   "execution_count": 93,
   "metadata": {},
   "outputs": [
    {
     "name": "stdout",
     "output_type": "stream",
     "text": [
      "[1, 2, 3, 4, 5, 6, 7, 8, 9, 10, 11, 12, 13, 14, 15, 16, 17, 18, 19, 20, 21, 22, 23, 24, 25, 26, 27, 28, 29, 30, 31, 32, 33, 34, 35, 36, 37, 38, 39, 40, 41, 42, 43, 44, 45, 46, 47, 48, 49, 50]\n",
      "[3, 6, 9, 12, 15, 18, 21, 24, 27, 30, 33, 36, 39, 42, 45, 48]\n",
      "None\n"
     ]
    }
   ],
   "source": [
    "# Exercice 46\n",
    "\n",
    "l46 = list(range(1,51))\n",
    "print(l46)\n",
    "\n",
    "def diviseur(n):\n",
    "    liste_pairs = [i for i in l46 if i % n == 0]\n",
    "    print(liste_pairs)\n",
    "\n",
    "print(diviseur(3))"
   ]
  },
  {
   "cell_type": "code",
   "execution_count": 22,
   "metadata": {},
   "outputs": [
    {
     "name": "stdout",
     "output_type": "stream",
     "text": [
      "True\n"
     ]
    }
   ],
   "source": [
    "# Exercice 47\n",
    "\n",
    "def verifMaj(p):\n",
    "    majuscules = 0\n",
    "    for lettre in p:\n",
    "        if lettre in p.upper():\n",
    "            majuscules+= 1\n",
    "    return majuscules > 0\n",
    "\n",
    "print(verifMaj(\"Coucou Elie\"))"
   ]
  },
  {
   "cell_type": "code",
   "execution_count": 109,
   "metadata": {},
   "outputs": [
    {
     "name": "stdout",
     "output_type": "stream",
     "text": [
      "[1, 2, 3, 'Bonjour', 'Coucou', 'Salut', [34, 45], 'Yo']\n"
     ]
    }
   ],
   "source": [
    "# Exercice 48\n",
    "\n",
    "l48a = [1,2,3]\n",
    "l48b = [\"Bonjour\", \"Coucou\", \"Salut\"]\n",
    "l48c = [[34,45], \"Yo\"]\n",
    "\n",
    "def concatListe(L1, L2, L3):\n",
    "    return L1 + L2 + L3\n",
    "\n",
    "print(concatListe(l48a,l48b, l48c))"
   ]
  },
  {
   "cell_type": "code",
   "execution_count": 110,
   "metadata": {},
   "outputs": [],
   "source": [
    "# Exercice 49\n",
    "\n"
   ]
  },
  {
   "cell_type": "code",
   "execution_count": 111,
   "metadata": {},
   "outputs": [],
   "source": [
    "# Exercice 50"
   ]
  },
  {
   "cell_type": "code",
   "execution_count": 112,
   "metadata": {},
   "outputs": [],
   "source": [
    "# Exercice 51"
   ]
  },
  {
   "cell_type": "code",
   "execution_count": 113,
   "metadata": {},
   "outputs": [],
   "source": [
    "# Exercice 52"
   ]
  },
  {
   "cell_type": "code",
   "execution_count": 19,
   "metadata": {},
   "outputs": [
    {
     "name": "stdout",
     "output_type": "stream",
     "text": [
      "True\n"
     ]
    }
   ],
   "source": [
    "# Exercice 53\n",
    "\n",
    "def presenceVoyelle(phrase):\n",
    "    liste_voyelles = [\"a\",\"e\",\"i\",\"o\",\"u\",\"y\"]\n",
    "    voyelle = 0\n",
    "    for lettre in phrase.lower():\n",
    "        if lettre in liste_voyelles:\n",
    "            voyelle=+1\n",
    "    return voyelle > 0\n",
    "\n",
    "print(presenceVoyelle(\"Bonjour\"))"
   ]
  },
  {
   "cell_type": "code",
   "execution_count": 30,
   "metadata": {},
   "outputs": [
    {
     "name": "stdout",
     "output_type": "stream",
     "text": [
      "Bonjour,commentçava?\n"
     ]
    }
   ],
   "source": [
    "# Exercice 54\n",
    "\n",
    "def supprEspace(phrase):\n",
    "    return phrase.replace(\" \",\"\")\n",
    "\n",
    "print(supprEspace(\"Bonjour, comment ça va ?\"))"
   ]
  },
  {
   "cell_type": "code",
   "execution_count": 60,
   "metadata": {},
   "outputs": [
    {
     "name": "stdout",
     "output_type": "stream",
     "text": [
      "[1, 2, 3, 4, 5, 6, 7, 8, 9, 10]\n",
      "2\n"
     ]
    }
   ],
   "source": [
    "# Exercice 55\n",
    "\n",
    "l55 = list(range(1,11))\n",
    "print(l55)\n",
    "\n",
    "def positionEltListe(L,x):\n",
    "    if x in L:\n",
    "        return L.index(x)\n",
    "\n",
    "print(positionEltListe(l55,3))"
   ]
  },
  {
   "cell_type": "code",
   "execution_count": 77,
   "metadata": {},
   "outputs": [
    {
     "name": "stdout",
     "output_type": "stream",
     "text": [
      "['Coucou,', 'comment']\n"
     ]
    }
   ],
   "source": [
    "# Exercice 56\n",
    "\n",
    "def filtrerMots(phrase, longueurMini):\n",
    "    mots = phrase.split()\n",
    "    mots_filtres = [mot for mot in mots if len(mot) >= longueurMini]\n",
    "    return mots_filtres\n",
    "     \n",
    "print(filtrerMots(\"Coucou, comment ca va\", 4))"
   ]
  },
  {
   "cell_type": "code",
   "execution_count": 118,
   "metadata": {},
   "outputs": [],
   "source": [
    "# Exercice 57"
   ]
  },
  {
   "cell_type": "code",
   "execution_count": 119,
   "metadata": {},
   "outputs": [],
   "source": [
    "# Exercice 58"
   ]
  },
  {
   "cell_type": "code",
   "execution_count": 84,
   "metadata": {},
   "outputs": [
    {
     "name": "stdout",
     "output_type": "stream",
     "text": [
      "{1, 2, 3, 4, 5, 6, 7, 8}\n"
     ]
    }
   ],
   "source": [
    "# Exercice 59\n",
    "\n",
    "L59a = [2,3,4,1]\n",
    "L59b = [3,4,6,5]\n",
    "L59c = [5,8,6,7]\n",
    "\n",
    "def unionListe(L1,L2,L3):\n",
    "    return set(L1 + L2 + L3)\n",
    "\n",
    "print(unionListe(L59a,L59b,L59c))"
   ]
  },
  {
   "cell_type": "code",
   "execution_count": 85,
   "metadata": {},
   "outputs": [],
   "source": [
    "# Exercice 60\n",
    "\n"
   ]
  },
  {
   "cell_type": "code",
   "execution_count": 96,
   "metadata": {},
   "outputs": [
    {
     "name": "stdout",
     "output_type": "stream",
     "text": [
      "Coucou\n"
     ]
    }
   ],
   "source": [
    "# Exercice 61\n",
    "\n",
    "with open(\"test.txt\", \"r\") as f:\n",
    "    print(f.read())\n",
    "\n",
    "\n"
   ]
  },
  {
   "cell_type": "code",
   "execution_count": 125,
   "metadata": {},
   "outputs": [
    {
     "name": "stdout",
     "output_type": "stream",
     "text": [
      "9\n"
     ]
    }
   ],
   "source": [
    "# Exercice 62\n",
    "\n",
    "def nbrOccFichier(cheminFichier,mot):\n",
    "    with open(cheminFichier, \"r\") as f:\n",
    "        contenu = f.read()\n",
    "        mot = contenu.split()\n",
    "        occurences = sum(1 for m in mot if m == m)\n",
    "        return occurences\n",
    "\n",
    "        \n",
    "    \n",
    "\n",
    "print(nbrOccFichier(\"test.txt\", \"je\"))\n"
   ]
  },
  {
   "cell_type": "code",
   "execution_count": 131,
   "metadata": {},
   "outputs": [
    {
     "name": "stdout",
     "output_type": "stream",
     "text": [
      "Coucou,jem'appelleElie,etjediscoucou!\n"
     ]
    }
   ],
   "source": [
    "# Exercice 63\n",
    "\n",
    "def nbrOccFichier(cheminFichier, mot):\n",
    "    with open(cheminFichier, \"r\") as f:\n",
    "        contenu = f.read()\n",
    "        return contenu.replace(mot,\"\")\n",
    "    \n",
    "print(nbrOccFichier(\"test.txt\", \" \"))"
   ]
  },
  {
   "cell_type": "code",
   "execution_count": 148,
   "metadata": {},
   "outputs": [
    {
     "name": "stdout",
     "output_type": "stream",
     "text": [
      "1\n"
     ]
    }
   ],
   "source": [
    "# Exercice 64\n",
    "\n",
    "def presenceNombre(cheminFichier):\n",
    "    with open(cheminFichier, \"r\") as f:\n",
    "        contenu = f.read()\n",
    "        # mots = contenu.split()\n",
    "        counter = 0\n",
    "        for n in contenu:\n",
    "            if n.isdigit():\n",
    "                counter += 1\n",
    "                return counter\n",
    "            \n",
    "            \n",
    "print(presenceNombre(\"test.txt\"))"
   ]
  },
  {
   "cell_type": "code",
   "execution_count": 146,
   "metadata": {},
   "outputs": [],
   "source": [
    "# Exercice 65\n",
    "\n"
   ]
  },
  {
   "cell_type": "code",
   "execution_count": 149,
   "metadata": {},
   "outputs": [],
   "source": [
    "# Exercice 66"
   ]
  },
  {
   "cell_type": "code",
   "execution_count": 2,
   "metadata": {},
   "outputs": [
    {
     "name": "stdout",
     "output_type": "stream",
     "text": [
      "a\n"
     ]
    }
   ],
   "source": [
    "# Exercice 67\n",
    "\n",
    "def cleMaxValeurDict(d):\n",
    "    cle = None\n",
    "    nbr_max_valeur = 0\n",
    "    for k,v in d.items():\n",
    "        valeurs_uniques = len(set(v))\n",
    "        if valeurs_uniques > nbr_max_valeur:\n",
    "            cle = k\n",
    "            nbr_max_valeur = valeurs_uniques\n",
    "    \n",
    "    return cle  \n",
    "    \n",
    "print(cleMaxValeurDict({\"a\": [9,10,9,7,3,1], \"b\" : [5,3,2,2,2], \"c\": [1,1,1,1,1,1,1,8,2]}))"
   ]
  },
  {
   "cell_type": "code",
   "execution_count": 23,
   "metadata": {},
   "outputs": [
    {
     "ename": "TypeError",
     "evalue": "'int' object is not iterable",
     "output_type": "error",
     "traceback": [
      "\u001b[1;31m---------------------------------------------------------------------------\u001b[0m",
      "\u001b[1;31mTypeError\u001b[0m                                 Traceback (most recent call last)",
      "\u001b[1;32mc:\\Users\\eliec\\Documents\\Code\\Exos25_74.ipynb Cellule 44\u001b[0m line \u001b[0;36m8\n\u001b[0;32m      <a href='vscode-notebook-cell:/c%3A/Users/eliec/Documents/Code/Exos25_74.ipynb#X61sZmlsZQ%3D%3D?line=4'>5</a>\u001b[0m     liste\u001b[39m.\u001b[39mextend(a)\n\u001b[0;32m      <a href='vscode-notebook-cell:/c%3A/Users/eliec/Documents/Code/Exos25_74.ipynb#X61sZmlsZQ%3D%3D?line=5'>6</a>\u001b[0m     \u001b[39mreturn\u001b[39;00m liste\n\u001b[1;32m----> <a href='vscode-notebook-cell:/c%3A/Users/eliec/Documents/Code/Exos25_74.ipynb#X61sZmlsZQ%3D%3D?line=7'>8</a>\u001b[0m \u001b[39mprint\u001b[39m(demande_valeurs())\n",
      "\u001b[1;32mc:\\Users\\eliec\\Documents\\Code\\Exos25_74.ipynb Cellule 44\u001b[0m line \u001b[0;36m5\n\u001b[0;32m      <a href='vscode-notebook-cell:/c%3A/Users/eliec/Documents/Code/Exos25_74.ipynb#X61sZmlsZQ%3D%3D?line=2'>3</a>\u001b[0m \u001b[39mdef\u001b[39;00m \u001b[39mdemande_valeurs\u001b[39m():\n\u001b[0;32m      <a href='vscode-notebook-cell:/c%3A/Users/eliec/Documents/Code/Exos25_74.ipynb#X61sZmlsZQ%3D%3D?line=3'>4</a>\u001b[0m     a \u001b[39m=\u001b[39m \u001b[39mint\u001b[39m(\u001b[39minput\u001b[39m())\n\u001b[1;32m----> <a href='vscode-notebook-cell:/c%3A/Users/eliec/Documents/Code/Exos25_74.ipynb#X61sZmlsZQ%3D%3D?line=4'>5</a>\u001b[0m     liste\u001b[39m.\u001b[39;49mextend(a)\n\u001b[0;32m      <a href='vscode-notebook-cell:/c%3A/Users/eliec/Documents/Code/Exos25_74.ipynb#X61sZmlsZQ%3D%3D?line=5'>6</a>\u001b[0m     \u001b[39mreturn\u001b[39;00m liste\n",
      "\u001b[1;31mTypeError\u001b[0m: 'int' object is not iterable"
     ]
    }
   ],
   "source": [
    "# liste = []\n",
    "\n",
    "def demande_valeurs():\n",
    "    a = int(input())\n",
    "    liste.extend(a)\n",
    "    return liste\n",
    "\n",
    "print(demande_valeurs())"
   ]
  },
  {
   "cell_type": "code",
   "execution_count": null,
   "metadata": {},
   "outputs": [],
   "source": []
  }
 ],
 "metadata": {
  "kernelspec": {
   "display_name": ".venv",
   "language": "python",
   "name": "python3"
  },
  "language_info": {
   "codemirror_mode": {
    "name": "ipython",
    "version": 3
   },
   "file_extension": ".py",
   "mimetype": "text/x-python",
   "name": "python",
   "nbconvert_exporter": "python",
   "pygments_lexer": "ipython3",
   "version": "3.10.12"
  },
  "orig_nbformat": 4
 },
 "nbformat": 4,
 "nbformat_minor": 2
}
