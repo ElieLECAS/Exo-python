{
 "cells": [
  {
   "cell_type": "code",
   "execution_count": 7,
   "metadata": {},
   "outputs": [
    {
     "name": "stdout",
     "output_type": "stream",
     "text": [
      "Entier\n"
     ]
    }
   ],
   "source": [
    "# Exercice 5\n",
    "\n",
    "var = 15\n",
    "\n",
    "if type(var) is str:\n",
    "    print(\"Chaines de caractères\")\n",
    "\n",
    "elif type(var) is int:\n",
    "    print(\"Entier\")\n",
    "\n",
    "else :\n",
    "    print(f\"a est {type(var)}\")\n"
   ]
  },
  {
   "cell_type": "code",
   "execution_count": 8,
   "metadata": {},
   "outputs": [
    {
     "name": "stdout",
     "output_type": "stream",
     "text": [
      "Positive\n"
     ]
    }
   ],
   "source": [
    "# Exercice 6\n",
    "\n",
    "d = 5\n",
    "\n",
    "if d >= 0:\n",
    "    print(\"Positive\")\n",
    "\n",
    "else :\n",
    "    print(\"Négative\")\n",
    "   "
   ]
  },
  {
   "cell_type": "code",
   "execution_count": 4,
   "metadata": {},
   "outputs": [
    {
     "name": "stdout",
     "output_type": "stream",
     "text": [
      "L'utilisateur est mineur. Il a 13 ans\n"
     ]
    }
   ],
   "source": [
    "# Exercice 7\n",
    "\n",
    "age = int(input(\"votre âge\"))\n",
    "\n",
    "\n",
    "if age >= 18:\n",
    "    print(f\"L'utilisateur est majeur. Il a {age} ans.\")\n",
    "else :\n",
    "    print(f\"L'utilisateur est mineur. Il a {age} ans\")"
   ]
  },
  {
   "cell_type": "code",
   "execution_count": 9,
   "metadata": {},
   "outputs": [
    {
     "name": "stdout",
     "output_type": "stream",
     "text": [
      "1\n",
      "2\n",
      "3\n",
      "4\n",
      "5\n",
      "6\n",
      "7\n",
      "8\n",
      "9\n",
      "10\n",
      "11\n",
      "12\n",
      "13\n",
      "14\n",
      "15\n",
      "16\n",
      "17\n",
      "18\n",
      "19\n",
      "20\n"
     ]
    }
   ],
   "source": [
    "# Exercice 8a\n",
    "\n",
    "for nombre in range(1,21):\n",
    " print(nombre)"
   ]
  },
  {
   "cell_type": "code",
   "execution_count": 13,
   "metadata": {},
   "outputs": [
    {
     "name": "stdout",
     "output_type": "stream",
     "text": [
      "1\n",
      "2\n",
      "3\n",
      "4\n",
      "5\n",
      "6\n",
      "7\n",
      "8\n",
      "9\n",
      "10\n",
      "11\n",
      "12\n",
      "13\n",
      "14\n",
      "15\n",
      "16\n",
      "17\n",
      "18\n",
      "19\n",
      "20\n"
     ]
    }
   ],
   "source": [
    "# Exercice 8b\n",
    "i = 0\n",
    "\n",
    "while i < 20:\n",
    "    i += 1\n",
    "    print(i)\n"
   ]
  },
  {
   "cell_type": "code",
   "execution_count": 34,
   "metadata": {},
   "outputs": [
    {
     "name": "stdout",
     "output_type": "stream",
     "text": [
      "11\n",
      "13\n",
      "15\n",
      "17\n",
      "19\n"
     ]
    }
   ],
   "source": [
    "# Exercice 9a\n",
    "\n",
    "for nombre_b in range(11,20,2):\n",
    "    print(nombre_b)"
   ]
  },
  {
   "cell_type": "code",
   "execution_count": 23,
   "metadata": {},
   "outputs": [
    {
     "name": "stdout",
     "output_type": "stream",
     "text": [
      "11\n",
      "12\n",
      "13\n",
      "14\n",
      "15\n",
      "16\n",
      "17\n",
      "18\n",
      "19\n",
      "20\n"
     ]
    }
   ],
   "source": [
    "# Exercice 9b\n",
    "i = 0\n",
    "\n",
    "while i < 20:\n",
    "    i += 1\n",
    "\n",
    "    if i > 10:\n",
    "        print(i)\n",
    "    \n",
    "        \n",
    "        \n"
   ]
  },
  {
   "cell_type": "code",
   "execution_count": 16,
   "metadata": {},
   "outputs": [
    {
     "name": "stdout",
     "output_type": "stream",
     "text": [
      "[1, 2, 3, 4, 5, 6, 7, 8, 9, 10]\n"
     ]
    }
   ],
   "source": [
    "# Exercice 10\n",
    "liste10 = [nombre for nombre in range(1,11)]\n",
    "\n",
    "print(liste10)\n"
   ]
  },
  {
   "cell_type": "code",
   "execution_count": 1,
   "metadata": {},
   "outputs": [
    {
     "name": "stdout",
     "output_type": "stream",
     "text": [
      "[2, 4, 6, 8, 10]\n"
     ]
    }
   ],
   "source": [
    "# Exercice 11\n",
    "\n",
    "liste_pairs = [i for i in list(range(1,11)) if i % 2 == 0]\n",
    "print(liste_pairs)"
   ]
  },
  {
   "cell_type": "code",
   "execution_count": 19,
   "metadata": {},
   "outputs": [
    {
     "name": "stdout",
     "output_type": "stream",
     "text": [
      "[1, 2, 2, 3, 4, 6, 8, 9, 12]\n"
     ]
    }
   ],
   "source": [
    "# Exercice 12\n",
    "\n",
    "l = [6,8,3,4,1,12,2,9,2]\n",
    "l.sort()\n",
    "print(l)"
   ]
  },
  {
   "cell_type": "code",
   "execution_count": 54,
   "metadata": {},
   "outputs": [
    {
     "name": "stdout",
     "output_type": "stream",
     "text": [
      "2\n"
     ]
    }
   ],
   "source": [
    "# Exercice 13\n",
    "\n",
    "l = [3,2,2,1,9,1,2,3,7]\n",
    "\n",
    "print(l.count(1))"
   ]
  },
  {
   "cell_type": "code",
   "execution_count": 2,
   "metadata": {},
   "outputs": [
    {
     "name": "stdout",
     "output_type": "stream",
     "text": [
      "[]\n",
      "[10, 25, 30, 45, 90, 'ab', 'cd', 'ef']\n"
     ]
    }
   ],
   "source": [
    "# Exercice 14\n",
    "\n",
    "l = []\n",
    "print(l)\n",
    "\n",
    "l += [10,25,30,45,90]\n",
    "l.append(\"ab\")\n",
    "l.append(\"cd\")\n",
    "l.append(\"ef\")\n",
    "print(l)"
   ]
  },
  {
   "cell_type": "code",
   "execution_count": 3,
   "metadata": {},
   "outputs": [
    {
     "name": "stdout",
     "output_type": "stream",
     "text": [
      "[1, 2, 3, 4, 5, 6, 7, 8, 9, 10]\n",
      "[1, 4, 7, 10]\n"
     ]
    }
   ],
   "source": [
    "# Exercice 15\n",
    "\n",
    "l = [a for a in range(1,11)]\n",
    "print(l)\n",
    "# l2 = [a for a in l[::3]]\n",
    "l2 = l[::3]\n",
    "print(l2)\n"
   ]
  },
  {
   "cell_type": "code",
   "execution_count": 28,
   "metadata": {},
   "outputs": [
    {
     "name": "stdout",
     "output_type": "stream",
     "text": [
      "acefnr\n",
      "['a', 'c', 'e', 'f', 'n', 'r']\n"
     ]
    }
   ],
   "source": [
    "# Exercice 16\n",
    "\n",
    "c = \"france\"\n",
    "c2 = \"\".join(sorted(c))\n",
    "c_sorted = sorted(c)\n",
    "print(c2)\n",
    "print(c_sorted)"
   ]
  },
  {
   "cell_type": "code",
   "execution_count": 6,
   "metadata": {},
   "outputs": [
    {
     "name": "stdout",
     "output_type": "stream",
     "text": [
      "[{'p', 'b', 2, 9}]\n"
     ]
    }
   ],
   "source": [
    "# Exercie 17\n",
    "l1 = [9,8,7,14,3,2,\"a\",\"p\",\"bonjour\",\"b\"]\n",
    "l2 = [\"b\",1,9,2,6,2,9,\"p\"]\n",
    "l3 = [set(l1) & set(l2)]\n",
    "\n",
    "print(l3)"
   ]
  },
  {
   "cell_type": "code",
   "execution_count": 55,
   "metadata": {},
   "outputs": [
    {
     "name": "stdout",
     "output_type": "stream",
     "text": [
      "[('Pêche', 2), ('Banane', 8), ('Kiwi', 9), ('Fraise', 12), ('Pomme', 15)]\n"
     ]
    }
   ],
   "source": [
    "# Exercice 18\n",
    "\n",
    "l = [(\"Pomme\", 15), (\"Banane\",8), (\"Fraise\",12), (\"Kiwi\",9), (\"Pêche\",2)]\n",
    "\n",
    "l2 = sorted(l, key=lambda x: x[1])\n",
    "\n",
    "print(l2)"
   ]
  },
  {
   "cell_type": "code",
   "execution_count": 59,
   "metadata": {},
   "outputs": [
    {
     "name": "stdout",
     "output_type": "stream",
     "text": [
      "ednom el tuot ruojnoB\n"
     ]
    }
   ],
   "source": [
    "# Exercice 19\n",
    "\n",
    "ch = \"Bonjour tout le monde\"\n",
    "hc=\"\".join(reversed(ch))\n",
    "print(hc)"
   ]
  },
  {
   "cell_type": "code",
   "execution_count": 79,
   "metadata": {},
   "outputs": [
    {
     "name": "stdout",
     "output_type": "stream",
     "text": [
      "3\n",
      "7\n"
     ]
    }
   ],
   "source": [
    "# Exercice 20\n",
    "\n",
    "dico_fruit = {'Pomme': 3, 'Banane': 7, 'Kiwi': 1}\n",
    "\n",
    "print(dico_fruit[\"Pomme\"])\n",
    "print(dico_fruit[\"Banane\"])"
   ]
  },
  {
   "cell_type": "code",
   "execution_count": 83,
   "metadata": {},
   "outputs": [
    {
     "name": "stdout",
     "output_type": "stream",
     "text": [
      "46\n"
     ]
    }
   ],
   "source": [
    "# Exercice 21\n",
    "\n",
    "l = {\"Pomme\": 15, \"Banane\" : 8, \"Fraise\" : 12, \"Kiwi\" : 9, \"Pêche\" : 2}\n",
    "\n",
    "print(sum(l.values()))"
   ]
  },
  {
   "cell_type": "code",
   "execution_count": 84,
   "metadata": {},
   "outputs": [
    {
     "name": "stdout",
     "output_type": "stream",
     "text": [
      "187.63\n"
     ]
    }
   ],
   "source": [
    "# Exercice 22\n",
    "\n",
    "decimal = 187.632587\n",
    "\n",
    "print(round(decimal,2))"
   ]
  },
  {
   "cell_type": "code",
   "execution_count": 85,
   "metadata": {},
   "outputs": [
    {
     "name": "stdout",
     "output_type": "stream",
     "text": [
      "Je m'appelle Elie et j'ai 26 ans. J'apprends le langage JS.\n"
     ]
    }
   ],
   "source": [
    "# Exercice 23\n",
    "\n",
    "monNom = input(\"Nom : \")\n",
    "age = input(\"Age : \")\n",
    "langage = input(\"Langage : \")\n",
    "\n",
    "print(f\"Je m'appelle {monNom} et j'ai {age} ans. J'apprends le langage {langage}.\")"
   ]
  },
  {
   "cell_type": "code",
   "execution_count": 5,
   "metadata": {},
   "outputs": [
    {
     "name": "stdout",
     "output_type": "stream",
     "text": [
      "8 x 0 = 0\n",
      "8 x 1 = 8\n",
      "8 x 2 = 16\n",
      "8 x 3 = 24\n",
      "8 x 4 = 32\n",
      "8 x 5 = 40\n",
      "8 x 6 = 48\n",
      "8 x 7 = 56\n",
      "8 x 8 = 64\n",
      "8 x 9 = 72\n",
      "8 x 10 = 80\n"
     ]
    }
   ],
   "source": [
    "# Exercice 24\n",
    "for i in range(11):\n",
    "    print(f\"8 x {i} = {8*i}\")\n",
    " "
   ]
  },
  {
   "cell_type": "code",
   "execution_count": null,
   "metadata": {},
   "outputs": [],
   "source": []
  }
 ],
 "metadata": {
  "kernelspec": {
   "display_name": "Python 3",
   "language": "python",
   "name": "python3"
  },
  "language_info": {
   "codemirror_mode": {
    "name": "ipython",
    "version": 3
   },
   "file_extension": ".py",
   "mimetype": "text/x-python",
   "name": "python",
   "nbconvert_exporter": "python",
   "pygments_lexer": "ipython3",
   "version": "3.11.0"
  }
 },
 "nbformat": 4,
 "nbformat_minor": 2
}
